{
  "metadata": {
    "kernelspec": {
      "display_name": "Python 3",
      "name": "python3"
    },
    "language_info": {
      "name": "python",
      "version": "3.11.13",
      "mimetype": "text/x-python",
      "codemirror_mode": {
        "name": "ipython",
        "version": 3
      },
      "pygments_lexer": "ipython3",
      "nbconvert_exporter": "python",
      "file_extension": ".py"
    },
    "kaggle": {
      "accelerator": "nvidiaTeslaT4",
      "dataSources": [
        {
          "sourceId": 12361827,
          "sourceType": "datasetVersion",
          "datasetId": 7779864
        }
      ],
      "dockerImageVersionId": 31089,
      "isInternetEnabled": true,
      "language": "python",
      "sourceType": "notebook",
      "isGpuEnabled": true
    },
    "colab": {
      "provenance": [],
      "gpuType": "T4"
    },
    "accelerator": "GPU"
  },
  "nbformat_minor": 0,
  "nbformat": 4,
  "cells": [
    {
      "source": [
        "# IMPORTANT: RUN THIS CELL IN ORDER TO IMPORT YOUR KAGGLE DATA SOURCES,\n",
        "# THEN FEEL FREE TO DELETE THIS CELL.\n",
        "# NOTE: THIS NOTEBOOK ENVIRONMENT DIFFERS FROM KAGGLE'S PYTHON\n",
        "# ENVIRONMENT SO THERE MAY BE MISSING LIBRARIES USED BY YOUR\n",
        "# NOTEBOOK.\n",
        "import kagglehub\n",
        "ahmednabiled_teeth_dataset_path = kagglehub.dataset_download('ahmednabiled/teeth-dataset')\n",
        "\n",
        "print('Data source import complete.')\n"
      ],
      "metadata": {
        "id": "zIhKYQVgR_hj",
        "colab": {
          "base_uri": "https://localhost:8080/"
        },
        "outputId": "0b60a6f8-579d-448a-e8ee-347a0f3fc6be"
      },
      "cell_type": "code",
      "outputs": [
        {
          "output_type": "stream",
          "name": "stdout",
          "text": [
            "Data source import complete.\n"
          ]
        }
      ],
      "execution_count": 5
    },
    {
      "cell_type": "code",
      "source": [
        "!pip install torch torchvision torchaudio --upgrade\n",
        "!pip install tqdm matplotlib seaborn pandas torchinfo"
      ],
      "metadata": {
        "id": "gbiiZPV3SfIx",
        "colab": {
          "base_uri": "https://localhost:8080/"
        },
        "outputId": "23a9305d-7d3a-4775-cc9d-b8742af53d54"
      },
      "execution_count": 2,
      "outputs": [
        {
          "output_type": "stream",
          "name": "stdout",
          "text": [
            "Requirement already satisfied: torch in /usr/local/lib/python3.11/dist-packages (2.6.0+cu124)\n",
            "Collecting torch\n",
            "  Downloading torch-2.7.1-cp311-cp311-manylinux_2_28_x86_64.whl.metadata (29 kB)\n",
            "Requirement already satisfied: torchvision in /usr/local/lib/python3.11/dist-packages (0.21.0+cu124)\n",
            "Collecting torchvision\n",
            "  Downloading torchvision-0.22.1-cp311-cp311-manylinux_2_28_x86_64.whl.metadata (6.1 kB)\n",
            "Requirement already satisfied: torchaudio in /usr/local/lib/python3.11/dist-packages (2.6.0+cu124)\n",
            "Collecting torchaudio\n",
            "  Downloading torchaudio-2.7.1-cp311-cp311-manylinux_2_28_x86_64.whl.metadata (6.6 kB)\n",
            "Requirement already satisfied: filelock in /usr/local/lib/python3.11/dist-packages (from torch) (3.18.0)\n",
            "Requirement already satisfied: typing-extensions>=4.10.0 in /usr/local/lib/python3.11/dist-packages (from torch) (4.14.1)\n",
            "Collecting sympy>=1.13.3 (from torch)\n",
            "  Downloading sympy-1.14.0-py3-none-any.whl.metadata (12 kB)\n",
            "Requirement already satisfied: networkx in /usr/local/lib/python3.11/dist-packages (from torch) (3.5)\n",
            "Requirement already satisfied: jinja2 in /usr/local/lib/python3.11/dist-packages (from torch) (3.1.6)\n",
            "Requirement already satisfied: fsspec in /usr/local/lib/python3.11/dist-packages (from torch) (2025.3.2)\n",
            "Collecting nvidia-cuda-nvrtc-cu12==12.6.77 (from torch)\n",
            "  Downloading nvidia_cuda_nvrtc_cu12-12.6.77-py3-none-manylinux2014_x86_64.whl.metadata (1.5 kB)\n",
            "Collecting nvidia-cuda-runtime-cu12==12.6.77 (from torch)\n",
            "  Downloading nvidia_cuda_runtime_cu12-12.6.77-py3-none-manylinux2014_x86_64.manylinux_2_17_x86_64.whl.metadata (1.5 kB)\n",
            "Collecting nvidia-cuda-cupti-cu12==12.6.80 (from torch)\n",
            "  Downloading nvidia_cuda_cupti_cu12-12.6.80-py3-none-manylinux2014_x86_64.manylinux_2_17_x86_64.whl.metadata (1.6 kB)\n",
            "Collecting nvidia-cudnn-cu12==9.5.1.17 (from torch)\n",
            "  Downloading nvidia_cudnn_cu12-9.5.1.17-py3-none-manylinux_2_28_x86_64.whl.metadata (1.6 kB)\n",
            "Collecting nvidia-cublas-cu12==12.6.4.1 (from torch)\n",
            "  Downloading nvidia_cublas_cu12-12.6.4.1-py3-none-manylinux2014_x86_64.manylinux_2_17_x86_64.whl.metadata (1.5 kB)\n",
            "Collecting nvidia-cufft-cu12==11.3.0.4 (from torch)\n",
            "  Downloading nvidia_cufft_cu12-11.3.0.4-py3-none-manylinux2014_x86_64.manylinux_2_17_x86_64.whl.metadata (1.5 kB)\n",
            "Collecting nvidia-curand-cu12==10.3.7.77 (from torch)\n",
            "  Downloading nvidia_curand_cu12-10.3.7.77-py3-none-manylinux2014_x86_64.manylinux_2_17_x86_64.whl.metadata (1.5 kB)\n",
            "Collecting nvidia-cusolver-cu12==11.7.1.2 (from torch)\n",
            "  Downloading nvidia_cusolver_cu12-11.7.1.2-py3-none-manylinux2014_x86_64.manylinux_2_17_x86_64.whl.metadata (1.6 kB)\n",
            "Collecting nvidia-cusparse-cu12==12.5.4.2 (from torch)\n",
            "  Downloading nvidia_cusparse_cu12-12.5.4.2-py3-none-manylinux2014_x86_64.manylinux_2_17_x86_64.whl.metadata (1.6 kB)\n",
            "Collecting nvidia-cusparselt-cu12==0.6.3 (from torch)\n",
            "  Downloading nvidia_cusparselt_cu12-0.6.3-py3-none-manylinux2014_x86_64.whl.metadata (6.8 kB)\n",
            "Collecting nvidia-nccl-cu12==2.26.2 (from torch)\n",
            "  Downloading nvidia_nccl_cu12-2.26.2-py3-none-manylinux2014_x86_64.manylinux_2_17_x86_64.whl.metadata (2.0 kB)\n",
            "Collecting nvidia-nvtx-cu12==12.6.77 (from torch)\n",
            "  Downloading nvidia_nvtx_cu12-12.6.77-py3-none-manylinux2014_x86_64.manylinux_2_17_x86_64.whl.metadata (1.6 kB)\n",
            "Collecting nvidia-nvjitlink-cu12==12.6.85 (from torch)\n",
            "  Downloading nvidia_nvjitlink_cu12-12.6.85-py3-none-manylinux2010_x86_64.manylinux_2_12_x86_64.whl.metadata (1.5 kB)\n",
            "Collecting nvidia-cufile-cu12==1.11.1.6 (from torch)\n",
            "  Downloading nvidia_cufile_cu12-1.11.1.6-py3-none-manylinux2014_x86_64.manylinux_2_17_x86_64.whl.metadata (1.5 kB)\n",
            "Collecting triton==3.3.1 (from torch)\n",
            "  Downloading triton-3.3.1-cp311-cp311-manylinux_2_27_x86_64.manylinux_2_28_x86_64.whl.metadata (1.5 kB)\n",
            "Requirement already satisfied: setuptools>=40.8.0 in /usr/local/lib/python3.11/dist-packages (from triton==3.3.1->torch) (75.2.0)\n",
            "Requirement already satisfied: numpy in /usr/local/lib/python3.11/dist-packages (from torchvision) (2.0.2)\n",
            "Requirement already satisfied: pillow!=8.3.*,>=5.3.0 in /usr/local/lib/python3.11/dist-packages (from torchvision) (11.2.1)\n",
            "Requirement already satisfied: mpmath<1.4,>=1.1.0 in /usr/local/lib/python3.11/dist-packages (from sympy>=1.13.3->torch) (1.3.0)\n",
            "Requirement already satisfied: MarkupSafe>=2.0 in /usr/local/lib/python3.11/dist-packages (from jinja2->torch) (3.0.2)\n",
            "Downloading torch-2.7.1-cp311-cp311-manylinux_2_28_x86_64.whl (821.2 MB)\n",
            "\u001b[2K   \u001b[90m━━━━━━━━━━━━━━━━━━━━━━━━━━━━━━━━━━━━━━━━\u001b[0m \u001b[32m821.2/821.2 MB\u001b[0m \u001b[31m2.0 MB/s\u001b[0m eta \u001b[36m0:00:00\u001b[0m\n",
            "\u001b[?25hDownloading nvidia_cublas_cu12-12.6.4.1-py3-none-manylinux2014_x86_64.manylinux_2_17_x86_64.whl (393.1 MB)\n",
            "\u001b[2K   \u001b[90m━━━━━━━━━━━━━━━━━━━━━━━━━━━━━━━━━━━━━━━━\u001b[0m \u001b[32m393.1/393.1 MB\u001b[0m \u001b[31m4.0 MB/s\u001b[0m eta \u001b[36m0:00:00\u001b[0m\n",
            "\u001b[?25hDownloading nvidia_cuda_cupti_cu12-12.6.80-py3-none-manylinux2014_x86_64.manylinux_2_17_x86_64.whl (8.9 MB)\n",
            "\u001b[2K   \u001b[90m━━━━━━━━━━━━━━━━━━━━━━━━━━━━━━━━━━━━━━━━\u001b[0m \u001b[32m8.9/8.9 MB\u001b[0m \u001b[31m123.4 MB/s\u001b[0m eta \u001b[36m0:00:00\u001b[0m\n",
            "\u001b[?25hDownloading nvidia_cuda_nvrtc_cu12-12.6.77-py3-none-manylinux2014_x86_64.whl (23.7 MB)\n",
            "\u001b[2K   \u001b[90m━━━━━━━━━━━━━━━━━━━━━━━━━━━━━━━━━━━━━━━━\u001b[0m \u001b[32m23.7/23.7 MB\u001b[0m \u001b[31m99.4 MB/s\u001b[0m eta \u001b[36m0:00:00\u001b[0m\n",
            "\u001b[?25hDownloading nvidia_cuda_runtime_cu12-12.6.77-py3-none-manylinux2014_x86_64.manylinux_2_17_x86_64.whl (897 kB)\n",
            "\u001b[2K   \u001b[90m━━━━━━━━━━━━━━━━━━━━━━━━━━━━━━━━━━━━━━━━\u001b[0m \u001b[32m897.7/897.7 kB\u001b[0m \u001b[31m58.9 MB/s\u001b[0m eta \u001b[36m0:00:00\u001b[0m\n",
            "\u001b[?25hDownloading nvidia_cudnn_cu12-9.5.1.17-py3-none-manylinux_2_28_x86_64.whl (571.0 MB)\n",
            "\u001b[2K   \u001b[90m━━━━━━━━━━━━━━━━━━━━━━━━━━━━━━━━━━━━━━━━\u001b[0m \u001b[32m571.0/571.0 MB\u001b[0m \u001b[31m1.2 MB/s\u001b[0m eta \u001b[36m0:00:00\u001b[0m\n",
            "\u001b[?25hDownloading nvidia_cufft_cu12-11.3.0.4-py3-none-manylinux2014_x86_64.manylinux_2_17_x86_64.whl (200.2 MB)\n",
            "\u001b[2K   \u001b[90m━━━━━━━━━━━━━━━━━━━━━━━━━━━━━━━━━━━━━━━━\u001b[0m \u001b[32m200.2/200.2 MB\u001b[0m \u001b[31m7.2 MB/s\u001b[0m eta \u001b[36m0:00:00\u001b[0m\n",
            "\u001b[?25hDownloading nvidia_cufile_cu12-1.11.1.6-py3-none-manylinux2014_x86_64.manylinux_2_17_x86_64.whl (1.1 MB)\n",
            "\u001b[2K   \u001b[90m━━━━━━━━━━━━━━━━━━━━━━━━━━━━━━━━━━━━━━━━\u001b[0m \u001b[32m1.1/1.1 MB\u001b[0m \u001b[31m69.3 MB/s\u001b[0m eta \u001b[36m0:00:00\u001b[0m\n",
            "\u001b[?25hDownloading nvidia_curand_cu12-10.3.7.77-py3-none-manylinux2014_x86_64.manylinux_2_17_x86_64.whl (56.3 MB)\n",
            "\u001b[2K   \u001b[90m━━━━━━━━━━━━━━━━━━━━━━━━━━━━━━━━━━━━━━━━\u001b[0m \u001b[32m56.3/56.3 MB\u001b[0m \u001b[31m11.7 MB/s\u001b[0m eta \u001b[36m0:00:00\u001b[0m\n",
            "\u001b[?25hDownloading nvidia_cusolver_cu12-11.7.1.2-py3-none-manylinux2014_x86_64.manylinux_2_17_x86_64.whl (158.2 MB)\n",
            "\u001b[2K   \u001b[90m━━━━━━━━━━━━━━━━━━━━━━━━━━━━━━━━━━━━━━━━\u001b[0m \u001b[32m158.2/158.2 MB\u001b[0m \u001b[31m7.0 MB/s\u001b[0m eta \u001b[36m0:00:00\u001b[0m\n",
            "\u001b[?25hDownloading nvidia_cusparse_cu12-12.5.4.2-py3-none-manylinux2014_x86_64.manylinux_2_17_x86_64.whl (216.6 MB)\n",
            "\u001b[2K   \u001b[90m━━━━━━━━━━━━━━━━━━━━━━━━━━━━━━━━━━━━━━━━\u001b[0m \u001b[32m216.6/216.6 MB\u001b[0m \u001b[31m5.5 MB/s\u001b[0m eta \u001b[36m0:00:00\u001b[0m\n",
            "\u001b[?25hDownloading nvidia_cusparselt_cu12-0.6.3-py3-none-manylinux2014_x86_64.whl (156.8 MB)\n",
            "\u001b[2K   \u001b[90m━━━━━━━━━━━━━━━━━━━━━━━━━━━━━━━━━━━━━━━━\u001b[0m \u001b[32m156.8/156.8 MB\u001b[0m \u001b[31m6.5 MB/s\u001b[0m eta \u001b[36m0:00:00\u001b[0m\n",
            "\u001b[?25hDownloading nvidia_nccl_cu12-2.26.2-py3-none-manylinux2014_x86_64.manylinux_2_17_x86_64.whl (201.3 MB)\n",
            "\u001b[2K   \u001b[90m━━━━━━━━━━━━━━━━━━━━━━━━━━━━━━━━━━━━━━━━\u001b[0m \u001b[32m201.3/201.3 MB\u001b[0m \u001b[31m5.6 MB/s\u001b[0m eta \u001b[36m0:00:00\u001b[0m\n",
            "\u001b[?25hDownloading nvidia_nvjitlink_cu12-12.6.85-py3-none-manylinux2010_x86_64.manylinux_2_12_x86_64.whl (19.7 MB)\n",
            "\u001b[2K   \u001b[90m━━━━━━━━━━━━━━━━━━━━━━━━━━━━━━━━━━━━━━━━\u001b[0m \u001b[32m19.7/19.7 MB\u001b[0m \u001b[31m88.5 MB/s\u001b[0m eta \u001b[36m0:00:00\u001b[0m\n",
            "\u001b[?25hDownloading nvidia_nvtx_cu12-12.6.77-py3-none-manylinux2014_x86_64.manylinux_2_17_x86_64.whl (89 kB)\n",
            "\u001b[2K   \u001b[90m━━━━━━━━━━━━━━━━━━━━━━━━━━━━━━━━━━━━━━━━\u001b[0m \u001b[32m89.3/89.3 kB\u001b[0m \u001b[31m8.9 MB/s\u001b[0m eta \u001b[36m0:00:00\u001b[0m\n",
            "\u001b[?25hDownloading triton-3.3.1-cp311-cp311-manylinux_2_27_x86_64.manylinux_2_28_x86_64.whl (155.7 MB)\n",
            "\u001b[2K   \u001b[90m━━━━━━━━━━━━━━━━━━━━━━━━━━━━━━━━━━━━━━━━\u001b[0m \u001b[32m155.7/155.7 MB\u001b[0m \u001b[31m7.3 MB/s\u001b[0m eta \u001b[36m0:00:00\u001b[0m\n",
            "\u001b[?25hDownloading torchvision-0.22.1-cp311-cp311-manylinux_2_28_x86_64.whl (7.5 MB)\n",
            "\u001b[2K   \u001b[90m━━━━━━━━━━━━━━━━━━━━━━━━━━━━━━━━━━━━━━━━\u001b[0m \u001b[32m7.5/7.5 MB\u001b[0m \u001b[31m134.3 MB/s\u001b[0m eta \u001b[36m0:00:00\u001b[0m\n",
            "\u001b[?25hDownloading torchaudio-2.7.1-cp311-cp311-manylinux_2_28_x86_64.whl (3.5 MB)\n",
            "\u001b[2K   \u001b[90m━━━━━━━━━━━━━━━━━━━━━━━━━━━━━━━━━━━━━━━━\u001b[0m \u001b[32m3.5/3.5 MB\u001b[0m \u001b[31m100.4 MB/s\u001b[0m eta \u001b[36m0:00:00\u001b[0m\n",
            "\u001b[?25hDownloading sympy-1.14.0-py3-none-any.whl (6.3 MB)\n",
            "\u001b[2K   \u001b[90m━━━━━━━━━━━━━━━━━━━━━━━━━━━━━━━━━━━━━━━━\u001b[0m \u001b[32m6.3/6.3 MB\u001b[0m \u001b[31m88.3 MB/s\u001b[0m eta \u001b[36m0:00:00\u001b[0m\n",
            "\u001b[?25hInstalling collected packages: nvidia-cusparselt-cu12, triton, sympy, nvidia-nvtx-cu12, nvidia-nvjitlink-cu12, nvidia-nccl-cu12, nvidia-curand-cu12, nvidia-cufile-cu12, nvidia-cuda-runtime-cu12, nvidia-cuda-nvrtc-cu12, nvidia-cuda-cupti-cu12, nvidia-cublas-cu12, nvidia-cusparse-cu12, nvidia-cufft-cu12, nvidia-cudnn-cu12, nvidia-cusolver-cu12, torch, torchvision, torchaudio\n",
            "  Attempting uninstall: nvidia-cusparselt-cu12\n",
            "    Found existing installation: nvidia-cusparselt-cu12 0.6.2\n",
            "    Uninstalling nvidia-cusparselt-cu12-0.6.2:\n",
            "      Successfully uninstalled nvidia-cusparselt-cu12-0.6.2\n",
            "  Attempting uninstall: triton\n",
            "    Found existing installation: triton 3.2.0\n",
            "    Uninstalling triton-3.2.0:\n",
            "      Successfully uninstalled triton-3.2.0\n",
            "  Attempting uninstall: sympy\n",
            "    Found existing installation: sympy 1.13.1\n",
            "    Uninstalling sympy-1.13.1:\n",
            "      Successfully uninstalled sympy-1.13.1\n",
            "  Attempting uninstall: nvidia-nvtx-cu12\n",
            "    Found existing installation: nvidia-nvtx-cu12 12.4.127\n",
            "    Uninstalling nvidia-nvtx-cu12-12.4.127:\n",
            "      Successfully uninstalled nvidia-nvtx-cu12-12.4.127\n",
            "  Attempting uninstall: nvidia-nvjitlink-cu12\n",
            "    Found existing installation: nvidia-nvjitlink-cu12 12.5.82\n",
            "    Uninstalling nvidia-nvjitlink-cu12-12.5.82:\n",
            "      Successfully uninstalled nvidia-nvjitlink-cu12-12.5.82\n",
            "  Attempting uninstall: nvidia-nccl-cu12\n",
            "    Found existing installation: nvidia-nccl-cu12 2.21.5\n",
            "    Uninstalling nvidia-nccl-cu12-2.21.5:\n",
            "      Successfully uninstalled nvidia-nccl-cu12-2.21.5\n",
            "  Attempting uninstall: nvidia-curand-cu12\n",
            "    Found existing installation: nvidia-curand-cu12 10.3.6.82\n",
            "    Uninstalling nvidia-curand-cu12-10.3.6.82:\n",
            "      Successfully uninstalled nvidia-curand-cu12-10.3.6.82\n",
            "  Attempting uninstall: nvidia-cuda-runtime-cu12\n",
            "    Found existing installation: nvidia-cuda-runtime-cu12 12.5.82\n",
            "    Uninstalling nvidia-cuda-runtime-cu12-12.5.82:\n",
            "      Successfully uninstalled nvidia-cuda-runtime-cu12-12.5.82\n",
            "  Attempting uninstall: nvidia-cuda-nvrtc-cu12\n",
            "    Found existing installation: nvidia-cuda-nvrtc-cu12 12.5.82\n",
            "    Uninstalling nvidia-cuda-nvrtc-cu12-12.5.82:\n",
            "      Successfully uninstalled nvidia-cuda-nvrtc-cu12-12.5.82\n",
            "  Attempting uninstall: nvidia-cuda-cupti-cu12\n",
            "    Found existing installation: nvidia-cuda-cupti-cu12 12.5.82\n",
            "    Uninstalling nvidia-cuda-cupti-cu12-12.5.82:\n",
            "      Successfully uninstalled nvidia-cuda-cupti-cu12-12.5.82\n",
            "  Attempting uninstall: nvidia-cublas-cu12\n",
            "    Found existing installation: nvidia-cublas-cu12 12.5.3.2\n",
            "    Uninstalling nvidia-cublas-cu12-12.5.3.2:\n",
            "      Successfully uninstalled nvidia-cublas-cu12-12.5.3.2\n",
            "  Attempting uninstall: nvidia-cusparse-cu12\n",
            "    Found existing installation: nvidia-cusparse-cu12 12.5.1.3\n",
            "    Uninstalling nvidia-cusparse-cu12-12.5.1.3:\n",
            "      Successfully uninstalled nvidia-cusparse-cu12-12.5.1.3\n",
            "  Attempting uninstall: nvidia-cufft-cu12\n",
            "    Found existing installation: nvidia-cufft-cu12 11.2.3.61\n",
            "    Uninstalling nvidia-cufft-cu12-11.2.3.61:\n",
            "      Successfully uninstalled nvidia-cufft-cu12-11.2.3.61\n",
            "  Attempting uninstall: nvidia-cudnn-cu12\n",
            "    Found existing installation: nvidia-cudnn-cu12 9.3.0.75\n",
            "    Uninstalling nvidia-cudnn-cu12-9.3.0.75:\n",
            "      Successfully uninstalled nvidia-cudnn-cu12-9.3.0.75\n",
            "  Attempting uninstall: nvidia-cusolver-cu12\n",
            "    Found existing installation: nvidia-cusolver-cu12 11.6.3.83\n",
            "    Uninstalling nvidia-cusolver-cu12-11.6.3.83:\n",
            "      Successfully uninstalled nvidia-cusolver-cu12-11.6.3.83\n",
            "  Attempting uninstall: torch\n",
            "    Found existing installation: torch 2.6.0+cu124\n",
            "    Uninstalling torch-2.6.0+cu124:\n",
            "      Successfully uninstalled torch-2.6.0+cu124\n",
            "  Attempting uninstall: torchvision\n",
            "    Found existing installation: torchvision 0.21.0+cu124\n",
            "    Uninstalling torchvision-0.21.0+cu124:\n",
            "      Successfully uninstalled torchvision-0.21.0+cu124\n",
            "  Attempting uninstall: torchaudio\n",
            "    Found existing installation: torchaudio 2.6.0+cu124\n",
            "    Uninstalling torchaudio-2.6.0+cu124:\n",
            "      Successfully uninstalled torchaudio-2.6.0+cu124\n",
            "\u001b[31mERROR: pip's dependency resolver does not currently take into account all the packages that are installed. This behaviour is the source of the following dependency conflicts.\n",
            "fastai 2.7.19 requires torch<2.7,>=1.10, but you have torch 2.7.1 which is incompatible.\u001b[0m\u001b[31m\n",
            "\u001b[0mSuccessfully installed nvidia-cublas-cu12-12.6.4.1 nvidia-cuda-cupti-cu12-12.6.80 nvidia-cuda-nvrtc-cu12-12.6.77 nvidia-cuda-runtime-cu12-12.6.77 nvidia-cudnn-cu12-9.5.1.17 nvidia-cufft-cu12-11.3.0.4 nvidia-cufile-cu12-1.11.1.6 nvidia-curand-cu12-10.3.7.77 nvidia-cusolver-cu12-11.7.1.2 nvidia-cusparse-cu12-12.5.4.2 nvidia-cusparselt-cu12-0.6.3 nvidia-nccl-cu12-2.26.2 nvidia-nvjitlink-cu12-12.6.85 nvidia-nvtx-cu12-12.6.77 sympy-1.14.0 torch-2.7.1 torchaudio-2.7.1 torchvision-0.22.1 triton-3.3.1\n",
            "Requirement already satisfied: tqdm in /usr/local/lib/python3.11/dist-packages (4.67.1)\n",
            "Requirement already satisfied: matplotlib in /usr/local/lib/python3.11/dist-packages (3.10.0)\n",
            "Requirement already satisfied: seaborn in /usr/local/lib/python3.11/dist-packages (0.13.2)\n",
            "Requirement already satisfied: pandas in /usr/local/lib/python3.11/dist-packages (2.2.2)\n",
            "Collecting torchinfo\n",
            "  Downloading torchinfo-1.8.0-py3-none-any.whl.metadata (21 kB)\n",
            "Requirement already satisfied: contourpy>=1.0.1 in /usr/local/lib/python3.11/dist-packages (from matplotlib) (1.3.2)\n",
            "Requirement already satisfied: cycler>=0.10 in /usr/local/lib/python3.11/dist-packages (from matplotlib) (0.12.1)\n",
            "Requirement already satisfied: fonttools>=4.22.0 in /usr/local/lib/python3.11/dist-packages (from matplotlib) (4.58.5)\n",
            "Requirement already satisfied: kiwisolver>=1.3.1 in /usr/local/lib/python3.11/dist-packages (from matplotlib) (1.4.8)\n",
            "Requirement already satisfied: numpy>=1.23 in /usr/local/lib/python3.11/dist-packages (from matplotlib) (2.0.2)\n",
            "Requirement already satisfied: packaging>=20.0 in /usr/local/lib/python3.11/dist-packages (from matplotlib) (24.2)\n",
            "Requirement already satisfied: pillow>=8 in /usr/local/lib/python3.11/dist-packages (from matplotlib) (11.2.1)\n",
            "Requirement already satisfied: pyparsing>=2.3.1 in /usr/local/lib/python3.11/dist-packages (from matplotlib) (3.2.3)\n",
            "Requirement already satisfied: python-dateutil>=2.7 in /usr/local/lib/python3.11/dist-packages (from matplotlib) (2.9.0.post0)\n",
            "Requirement already satisfied: pytz>=2020.1 in /usr/local/lib/python3.11/dist-packages (from pandas) (2025.2)\n",
            "Requirement already satisfied: tzdata>=2022.7 in /usr/local/lib/python3.11/dist-packages (from pandas) (2025.2)\n",
            "Requirement already satisfied: six>=1.5 in /usr/local/lib/python3.11/dist-packages (from python-dateutil>=2.7->matplotlib) (1.17.0)\n",
            "Downloading torchinfo-1.8.0-py3-none-any.whl (23 kB)\n",
            "Installing collected packages: torchinfo\n",
            "Successfully installed torchinfo-1.8.0\n"
          ]
        }
      ]
    },
    {
      "cell_type": "code",
      "source": [
        "from torch.utils.data import DataLoader\n",
        "from torchvision import transforms, datasets, models\n",
        "import torchvision\n",
        "import torch\n",
        "import torch.nn as nn\n",
        "import torch.nn.functional as F\n",
        "import torch.optim as optim\n",
        "from tqdm import tqdm\n",
        "import matplotlib.pyplot as plt\n",
        "import numpy as np\n",
        "import pandas as pd\n",
        "import seaborn as sns\n",
        "import os\n",
        "import time\n",
        "from torchinfo import summary\n",
        "\n",
        "device = torch.device(\"cuda\" if torch.cuda.is_available() else \"cpu\")"
      ],
      "metadata": {
        "_uuid": "8f2839f25d086af736a60e9eeb907d3b93b6e0e5",
        "_cell_guid": "b1076dfc-b9ad-4769-8c92-a6c4dae69d19",
        "trusted": true,
        "execution": {
          "iopub.status.busy": "2025-07-10T13:48:55.776698Z",
          "iopub.execute_input": "2025-07-10T13:48:55.77763Z",
          "iopub.status.idle": "2025-07-10T13:48:55.784249Z",
          "shell.execute_reply.started": "2025-07-10T13:48:55.777593Z",
          "shell.execute_reply": "2025-07-10T13:48:55.783454Z"
        },
        "id": "YY75m29KR_hl"
      },
      "outputs": [],
      "execution_count": 3
    },
    {
      "cell_type": "code",
      "source": [
        "mean = [0.5, 0.5, 0.5]\n",
        "std = [0.5, 0.5, 0.5]\n",
        "\n",
        "train_transform = transforms.Compose([\n",
        "    transforms.Resize((256, 256)),\n",
        "    transforms.RandomHorizontalFlip(),\n",
        "    transforms.RandomRotation(15),\n",
        "    transforms.ColorJitter(brightness=0.3, contrast=0.3),\n",
        "    transforms.ToTensor(),\n",
        "    transforms.Normalize(mean=mean, std=std)\n",
        "])\n",
        "\n",
        "test_transform = transforms.Compose([\n",
        "    transforms.Resize((256, 256)),\n",
        "    transforms.ToTensor(),\n",
        "    transforms.Normalize(mean=mean, std=std)\n",
        "])\n",
        "\n",
        "batch_size = 16\n",
        "\n",
        "data_dir = \"/kaggle/input/teeth-dataset/Teeth_Dataset/\"\n",
        "train_dataset = datasets.ImageFolder(os.path.join(data_dir, \"Training\"), transform=train_transform)\n",
        "val_dataset = datasets.ImageFolder(os.path.join(data_dir, \"Validation\"), transform=test_transform)\n",
        "test_dataset = datasets.ImageFolder(os.path.join(data_dir, \"Testing\"), transform=test_transform)\n",
        "\n",
        "train_loader = DataLoader(train_dataset, batch_size=batch_size, shuffle=True)\n",
        "val_loader = DataLoader(val_dataset, batch_size=batch_size, shuffle=False)\n",
        "test_loader = DataLoader(test_dataset, batch_size=batch_size, shuffle=False)\n",
        "num_classes = len(train_dataset.classes)\n",
        "\n",
        "train_data_size = len(train_dataset)\n",
        "valid_data_size = len(val_dataset)\n",
        "test_data_size = len(test_dataset)"
      ],
      "metadata": {
        "trusted": true,
        "execution": {
          "iopub.status.busy": "2025-07-10T13:48:55.798341Z",
          "iopub.execute_input": "2025-07-10T13:48:55.798568Z",
          "iopub.status.idle": "2025-07-10T13:49:02.541275Z",
          "shell.execute_reply.started": "2025-07-10T13:48:55.79855Z",
          "shell.execute_reply": "2025-07-10T13:49:02.540644Z"
        },
        "id": "0n0E0lJLR_hm"
      },
      "outputs": [],
      "execution_count": 23
    },
    {
      "cell_type": "code",
      "source": [
        "resnet50 = models.resnet50(weights = 'DEFAULT')\n",
        "resnet50 = resnet50.to(device)"
      ],
      "metadata": {
        "trusted": true,
        "execution": {
          "iopub.status.busy": "2025-07-10T13:49:02.542948Z",
          "iopub.execute_input": "2025-07-10T13:49:02.543596Z",
          "iopub.status.idle": "2025-07-10T13:49:03.069732Z",
          "shell.execute_reply.started": "2025-07-10T13:49:02.543561Z",
          "shell.execute_reply": "2025-07-10T13:49:03.068949Z"
        },
        "id": "PuRUVTn9R_hn",
        "colab": {
          "base_uri": "https://localhost:8080/"
        },
        "outputId": "e7db25ea-ed18-46d3-85bc-b600902149a6"
      },
      "outputs": [
        {
          "output_type": "stream",
          "name": "stdout",
          "text": [
            "Downloading: \"https://download.pytorch.org/models/resnet50-11ad3fa6.pth\" to /root/.cache/torch/hub/checkpoints/resnet50-11ad3fa6.pth\n"
          ]
        },
        {
          "output_type": "stream",
          "name": "stderr",
          "text": [
            "100%|██████████| 97.8M/97.8M [00:00<00:00, 191MB/s]\n"
          ]
        }
      ],
      "execution_count": 7
    },
    {
      "cell_type": "code",
      "source": [
        "for param in resnet50.parameters():\n",
        "    param.requires_grads = False"
      ],
      "metadata": {
        "trusted": true,
        "execution": {
          "iopub.status.busy": "2025-07-10T13:49:03.070545Z",
          "iopub.execute_input": "2025-07-10T13:49:03.07081Z",
          "iopub.status.idle": "2025-07-10T13:49:03.075261Z",
          "shell.execute_reply.started": "2025-07-10T13:49:03.070789Z",
          "shell.execute_reply": "2025-07-10T13:49:03.074495Z"
        },
        "id": "UwH6G7mbR_ho"
      },
      "outputs": [],
      "execution_count": 8
    },
    {
      "cell_type": "code",
      "source": [
        "fc_inputs = resnet50.fc.in_features\n",
        "resnet50.fc = nn.Sequential(\n",
        "    nn.Linear(fc_inputs, 256),\n",
        "    nn.ReLU(),\n",
        "    nn.Dropout(0.4),\n",
        "    nn.Linear(256, num_classes),\n",
        "    nn.LogSoftmax(dim=1)\n",
        ")"
      ],
      "metadata": {
        "trusted": true,
        "execution": {
          "iopub.status.busy": "2025-07-10T13:49:03.076965Z",
          "iopub.execute_input": "2025-07-10T13:49:03.077204Z",
          "iopub.status.idle": "2025-07-10T13:49:03.08984Z",
          "shell.execute_reply.started": "2025-07-10T13:49:03.077188Z",
          "shell.execute_reply": "2025-07-10T13:49:03.089095Z"
        },
        "id": "iHmwduYdR_ho"
      },
      "outputs": [],
      "execution_count": 9
    },
    {
      "cell_type": "code",
      "source": [
        "loss_func = nn.NLLLoss()\n",
        "learning_rate = 0.01\n",
        "optimizer = optim.SGD(\n",
        "    params=resnet50.parameters(),\n",
        "    lr=learning_rate,\n",
        "    momentum=0.9\n",
        ")"
      ],
      "metadata": {
        "trusted": true,
        "execution": {
          "iopub.status.busy": "2025-07-10T13:49:03.09051Z",
          "iopub.execute_input": "2025-07-10T13:49:03.090809Z",
          "iopub.status.idle": "2025-07-10T13:49:03.095521Z",
          "shell.execute_reply.started": "2025-07-10T13:49:03.090784Z",
          "shell.execute_reply": "2025-07-10T13:49:03.094953Z"
        },
        "id": "yQZsgaY8R_hp"
      },
      "outputs": [],
      "execution_count": 10
    },
    {
      "cell_type": "code",
      "source": [
        "def train_and_validate(model, loss_criterion, optimizer, epochs=25):\n",
        "    start = time.time()\n",
        "    history = []\n",
        "    best_loss = 100000.0\n",
        "    best_epoch = None\n",
        "\n",
        "    for epoch in range(epochs):\n",
        "        epoch_start = time.time()\n",
        "        print(\"Epoch: {}/{}\".format(epoch+1, epochs))\n",
        "        model.train()\n",
        "\n",
        "        train_loss = 0.0\n",
        "        train_acc = 0.0\n",
        "        valid_loss = 0.0\n",
        "        valid_acc = 0.0\n",
        "\n",
        "        for i, (inputs, labels) in enumerate(train_loader):\n",
        "            inputs = inputs.to(device)\n",
        "            labels = labels.to(device)\n",
        "            optimizer.zero_grad()\n",
        "            outputs = model(inputs)\n",
        "            loss = loss_criterion(outputs, labels)\n",
        "            loss.backward()\n",
        "            optimizer.step()\n",
        "            train_loss += loss.item() * inputs.size(0)\n",
        "\n",
        "            ret, predictions = torch.max(outputs.data, 1)\n",
        "            correct_counts = predictions.eq(labels.data.view_as(predictions))\n",
        "\n",
        "            acc = torch.mean(correct_counts.type(torch.FloatTensor))\n",
        "\n",
        "            train_acc += acc.item() * inputs.size(0)\n",
        "\n",
        "        with torch.no_grad():\n",
        "            model.eval()\n",
        "            for j, (inputs, labels) in enumerate(val_loader):\n",
        "                inputs = inputs.to(device)\n",
        "                labels = labels.to(device)\n",
        "                outputs = model(inputs)\n",
        "                loss = loss_criterion(outputs, labels)\n",
        "                valid_loss += loss.item() * inputs.size(0)\n",
        "                ret, predictions = torch.max(outputs.data, 1)\n",
        "                correct_counts = predictions.eq(labels.data.view_as(predictions))\n",
        "                acc = torch.mean(correct_counts.type(torch.FloatTensor))\n",
        "                valid_acc += acc.item() * inputs.size(0)\n",
        "\n",
        "        if valid_loss < best_loss:\n",
        "            best_loss = valid_loss\n",
        "            best_epoch = epoch\n",
        "\n",
        "            torch.save(model.state_dict(), 'best_model.pt')\n",
        "\n",
        "        avg_train_loss = train_loss/train_data_size\n",
        "        avg_train_acc = train_acc/train_data_size\n",
        "\n",
        "        avg_valid_loss = valid_loss/valid_data_size\n",
        "        avg_valid_acc = valid_acc/valid_data_size\n",
        "        history.append([avg_train_loss, avg_valid_loss, avg_train_acc, avg_valid_acc])\n",
        "        epoch_end = time.time()\n",
        "        print(\"Epoch : {:03d}, Training: Loss - {:.4f}, Accuracy - {:.4f}%, \\n\\t\\tValidation : Loss - {:.4f}, Accuracy - {:.4f}%, Time: {:.4f}s\".format(epoch, avg_train_loss, avg_train_acc*100, avg_valid_loss, avg_valid_acc*100, epoch_end-epoch_start))\n",
        "\n",
        "    return model, history, best_epoch"
      ],
      "metadata": {
        "trusted": true,
        "execution": {
          "iopub.status.busy": "2025-07-10T13:49:03.096209Z",
          "iopub.execute_input": "2025-07-10T13:49:03.096392Z",
          "iopub.status.idle": "2025-07-10T13:49:03.106008Z",
          "shell.execute_reply.started": "2025-07-10T13:49:03.096378Z",
          "shell.execute_reply": "2025-07-10T13:49:03.105352Z"
        },
        "id": "ruvbYRHmR_hq"
      },
      "outputs": [],
      "execution_count": 11
    },
    {
      "cell_type": "code",
      "source": [
        "print(summary(resnet50, input_size=(batch_size, 3, 256, 256)))"
      ],
      "metadata": {
        "trusted": true,
        "execution": {
          "iopub.status.busy": "2025-07-10T13:49:03.106865Z",
          "iopub.execute_input": "2025-07-10T13:49:03.107119Z",
          "iopub.status.idle": "2025-07-10T13:49:03.17812Z",
          "shell.execute_reply.started": "2025-07-10T13:49:03.107093Z",
          "shell.execute_reply": "2025-07-10T13:49:03.177395Z"
        },
        "id": "Dg-ePTeMR_hr",
        "colab": {
          "base_uri": "https://localhost:8080/"
        },
        "outputId": "bf7cdeb0-cf32-4e7f-eaa9-c70ec3ac84f0"
      },
      "outputs": [
        {
          "output_type": "stream",
          "name": "stdout",
          "text": [
            "==========================================================================================\n",
            "Layer (type:depth-idx)                   Output Shape              Param #\n",
            "==========================================================================================\n",
            "ResNet                                   [16, 7]                   --\n",
            "├─Conv2d: 1-1                            [16, 64, 128, 128]        9,408\n",
            "├─BatchNorm2d: 1-2                       [16, 64, 128, 128]        128\n",
            "├─ReLU: 1-3                              [16, 64, 128, 128]        --\n",
            "├─MaxPool2d: 1-4                         [16, 64, 64, 64]          --\n",
            "├─Sequential: 1-5                        [16, 256, 64, 64]         --\n",
            "│    └─Bottleneck: 2-1                   [16, 256, 64, 64]         --\n",
            "│    │    └─Conv2d: 3-1                  [16, 64, 64, 64]          4,096\n",
            "│    │    └─BatchNorm2d: 3-2             [16, 64, 64, 64]          128\n",
            "│    │    └─ReLU: 3-3                    [16, 64, 64, 64]          --\n",
            "│    │    └─Conv2d: 3-4                  [16, 64, 64, 64]          36,864\n",
            "│    │    └─BatchNorm2d: 3-5             [16, 64, 64, 64]          128\n",
            "│    │    └─ReLU: 3-6                    [16, 64, 64, 64]          --\n",
            "│    │    └─Conv2d: 3-7                  [16, 256, 64, 64]         16,384\n",
            "│    │    └─BatchNorm2d: 3-8             [16, 256, 64, 64]         512\n",
            "│    │    └─Sequential: 3-9              [16, 256, 64, 64]         16,896\n",
            "│    │    └─ReLU: 3-10                   [16, 256, 64, 64]         --\n",
            "│    └─Bottleneck: 2-2                   [16, 256, 64, 64]         --\n",
            "│    │    └─Conv2d: 3-11                 [16, 64, 64, 64]          16,384\n",
            "│    │    └─BatchNorm2d: 3-12            [16, 64, 64, 64]          128\n",
            "│    │    └─ReLU: 3-13                   [16, 64, 64, 64]          --\n",
            "│    │    └─Conv2d: 3-14                 [16, 64, 64, 64]          36,864\n",
            "│    │    └─BatchNorm2d: 3-15            [16, 64, 64, 64]          128\n",
            "│    │    └─ReLU: 3-16                   [16, 64, 64, 64]          --\n",
            "│    │    └─Conv2d: 3-17                 [16, 256, 64, 64]         16,384\n",
            "│    │    └─BatchNorm2d: 3-18            [16, 256, 64, 64]         512\n",
            "│    │    └─ReLU: 3-19                   [16, 256, 64, 64]         --\n",
            "│    └─Bottleneck: 2-3                   [16, 256, 64, 64]         --\n",
            "│    │    └─Conv2d: 3-20                 [16, 64, 64, 64]          16,384\n",
            "│    │    └─BatchNorm2d: 3-21            [16, 64, 64, 64]          128\n",
            "│    │    └─ReLU: 3-22                   [16, 64, 64, 64]          --\n",
            "│    │    └─Conv2d: 3-23                 [16, 64, 64, 64]          36,864\n",
            "│    │    └─BatchNorm2d: 3-24            [16, 64, 64, 64]          128\n",
            "│    │    └─ReLU: 3-25                   [16, 64, 64, 64]          --\n",
            "│    │    └─Conv2d: 3-26                 [16, 256, 64, 64]         16,384\n",
            "│    │    └─BatchNorm2d: 3-27            [16, 256, 64, 64]         512\n",
            "│    │    └─ReLU: 3-28                   [16, 256, 64, 64]         --\n",
            "├─Sequential: 1-6                        [16, 512, 32, 32]         --\n",
            "│    └─Bottleneck: 2-4                   [16, 512, 32, 32]         --\n",
            "│    │    └─Conv2d: 3-29                 [16, 128, 64, 64]         32,768\n",
            "│    │    └─BatchNorm2d: 3-30            [16, 128, 64, 64]         256\n",
            "│    │    └─ReLU: 3-31                   [16, 128, 64, 64]         --\n",
            "│    │    └─Conv2d: 3-32                 [16, 128, 32, 32]         147,456\n",
            "│    │    └─BatchNorm2d: 3-33            [16, 128, 32, 32]         256\n",
            "│    │    └─ReLU: 3-34                   [16, 128, 32, 32]         --\n",
            "│    │    └─Conv2d: 3-35                 [16, 512, 32, 32]         65,536\n",
            "│    │    └─BatchNorm2d: 3-36            [16, 512, 32, 32]         1,024\n",
            "│    │    └─Sequential: 3-37             [16, 512, 32, 32]         132,096\n",
            "│    │    └─ReLU: 3-38                   [16, 512, 32, 32]         --\n",
            "│    └─Bottleneck: 2-5                   [16, 512, 32, 32]         --\n",
            "│    │    └─Conv2d: 3-39                 [16, 128, 32, 32]         65,536\n",
            "│    │    └─BatchNorm2d: 3-40            [16, 128, 32, 32]         256\n",
            "│    │    └─ReLU: 3-41                   [16, 128, 32, 32]         --\n",
            "│    │    └─Conv2d: 3-42                 [16, 128, 32, 32]         147,456\n",
            "│    │    └─BatchNorm2d: 3-43            [16, 128, 32, 32]         256\n",
            "│    │    └─ReLU: 3-44                   [16, 128, 32, 32]         --\n",
            "│    │    └─Conv2d: 3-45                 [16, 512, 32, 32]         65,536\n",
            "│    │    └─BatchNorm2d: 3-46            [16, 512, 32, 32]         1,024\n",
            "│    │    └─ReLU: 3-47                   [16, 512, 32, 32]         --\n",
            "│    └─Bottleneck: 2-6                   [16, 512, 32, 32]         --\n",
            "│    │    └─Conv2d: 3-48                 [16, 128, 32, 32]         65,536\n",
            "│    │    └─BatchNorm2d: 3-49            [16, 128, 32, 32]         256\n",
            "│    │    └─ReLU: 3-50                   [16, 128, 32, 32]         --\n",
            "│    │    └─Conv2d: 3-51                 [16, 128, 32, 32]         147,456\n",
            "│    │    └─BatchNorm2d: 3-52            [16, 128, 32, 32]         256\n",
            "│    │    └─ReLU: 3-53                   [16, 128, 32, 32]         --\n",
            "│    │    └─Conv2d: 3-54                 [16, 512, 32, 32]         65,536\n",
            "│    │    └─BatchNorm2d: 3-55            [16, 512, 32, 32]         1,024\n",
            "│    │    └─ReLU: 3-56                   [16, 512, 32, 32]         --\n",
            "│    └─Bottleneck: 2-7                   [16, 512, 32, 32]         --\n",
            "│    │    └─Conv2d: 3-57                 [16, 128, 32, 32]         65,536\n",
            "│    │    └─BatchNorm2d: 3-58            [16, 128, 32, 32]         256\n",
            "│    │    └─ReLU: 3-59                   [16, 128, 32, 32]         --\n",
            "│    │    └─Conv2d: 3-60                 [16, 128, 32, 32]         147,456\n",
            "│    │    └─BatchNorm2d: 3-61            [16, 128, 32, 32]         256\n",
            "│    │    └─ReLU: 3-62                   [16, 128, 32, 32]         --\n",
            "│    │    └─Conv2d: 3-63                 [16, 512, 32, 32]         65,536\n",
            "│    │    └─BatchNorm2d: 3-64            [16, 512, 32, 32]         1,024\n",
            "│    │    └─ReLU: 3-65                   [16, 512, 32, 32]         --\n",
            "├─Sequential: 1-7                        [16, 1024, 16, 16]        --\n",
            "│    └─Bottleneck: 2-8                   [16, 1024, 16, 16]        --\n",
            "│    │    └─Conv2d: 3-66                 [16, 256, 32, 32]         131,072\n",
            "│    │    └─BatchNorm2d: 3-67            [16, 256, 32, 32]         512\n",
            "│    │    └─ReLU: 3-68                   [16, 256, 32, 32]         --\n",
            "│    │    └─Conv2d: 3-69                 [16, 256, 16, 16]         589,824\n",
            "│    │    └─BatchNorm2d: 3-70            [16, 256, 16, 16]         512\n",
            "│    │    └─ReLU: 3-71                   [16, 256, 16, 16]         --\n",
            "│    │    └─Conv2d: 3-72                 [16, 1024, 16, 16]        262,144\n",
            "│    │    └─BatchNorm2d: 3-73            [16, 1024, 16, 16]        2,048\n",
            "│    │    └─Sequential: 3-74             [16, 1024, 16, 16]        526,336\n",
            "│    │    └─ReLU: 3-75                   [16, 1024, 16, 16]        --\n",
            "│    └─Bottleneck: 2-9                   [16, 1024, 16, 16]        --\n",
            "│    │    └─Conv2d: 3-76                 [16, 256, 16, 16]         262,144\n",
            "│    │    └─BatchNorm2d: 3-77            [16, 256, 16, 16]         512\n",
            "│    │    └─ReLU: 3-78                   [16, 256, 16, 16]         --\n",
            "│    │    └─Conv2d: 3-79                 [16, 256, 16, 16]         589,824\n",
            "│    │    └─BatchNorm2d: 3-80            [16, 256, 16, 16]         512\n",
            "│    │    └─ReLU: 3-81                   [16, 256, 16, 16]         --\n",
            "│    │    └─Conv2d: 3-82                 [16, 1024, 16, 16]        262,144\n",
            "│    │    └─BatchNorm2d: 3-83            [16, 1024, 16, 16]        2,048\n",
            "│    │    └─ReLU: 3-84                   [16, 1024, 16, 16]        --\n",
            "│    └─Bottleneck: 2-10                  [16, 1024, 16, 16]        --\n",
            "│    │    └─Conv2d: 3-85                 [16, 256, 16, 16]         262,144\n",
            "│    │    └─BatchNorm2d: 3-86            [16, 256, 16, 16]         512\n",
            "│    │    └─ReLU: 3-87                   [16, 256, 16, 16]         --\n",
            "│    │    └─Conv2d: 3-88                 [16, 256, 16, 16]         589,824\n",
            "│    │    └─BatchNorm2d: 3-89            [16, 256, 16, 16]         512\n",
            "│    │    └─ReLU: 3-90                   [16, 256, 16, 16]         --\n",
            "│    │    └─Conv2d: 3-91                 [16, 1024, 16, 16]        262,144\n",
            "│    │    └─BatchNorm2d: 3-92            [16, 1024, 16, 16]        2,048\n",
            "│    │    └─ReLU: 3-93                   [16, 1024, 16, 16]        --\n",
            "│    └─Bottleneck: 2-11                  [16, 1024, 16, 16]        --\n",
            "│    │    └─Conv2d: 3-94                 [16, 256, 16, 16]         262,144\n",
            "│    │    └─BatchNorm2d: 3-95            [16, 256, 16, 16]         512\n",
            "│    │    └─ReLU: 3-96                   [16, 256, 16, 16]         --\n",
            "│    │    └─Conv2d: 3-97                 [16, 256, 16, 16]         589,824\n",
            "│    │    └─BatchNorm2d: 3-98            [16, 256, 16, 16]         512\n",
            "│    │    └─ReLU: 3-99                   [16, 256, 16, 16]         --\n",
            "│    │    └─Conv2d: 3-100                [16, 1024, 16, 16]        262,144\n",
            "│    │    └─BatchNorm2d: 3-101           [16, 1024, 16, 16]        2,048\n",
            "│    │    └─ReLU: 3-102                  [16, 1024, 16, 16]        --\n",
            "│    └─Bottleneck: 2-12                  [16, 1024, 16, 16]        --\n",
            "│    │    └─Conv2d: 3-103                [16, 256, 16, 16]         262,144\n",
            "│    │    └─BatchNorm2d: 3-104           [16, 256, 16, 16]         512\n",
            "│    │    └─ReLU: 3-105                  [16, 256, 16, 16]         --\n",
            "│    │    └─Conv2d: 3-106                [16, 256, 16, 16]         589,824\n",
            "│    │    └─BatchNorm2d: 3-107           [16, 256, 16, 16]         512\n",
            "│    │    └─ReLU: 3-108                  [16, 256, 16, 16]         --\n",
            "│    │    └─Conv2d: 3-109                [16, 1024, 16, 16]        262,144\n",
            "│    │    └─BatchNorm2d: 3-110           [16, 1024, 16, 16]        2,048\n",
            "│    │    └─ReLU: 3-111                  [16, 1024, 16, 16]        --\n",
            "│    └─Bottleneck: 2-13                  [16, 1024, 16, 16]        --\n",
            "│    │    └─Conv2d: 3-112                [16, 256, 16, 16]         262,144\n",
            "│    │    └─BatchNorm2d: 3-113           [16, 256, 16, 16]         512\n",
            "│    │    └─ReLU: 3-114                  [16, 256, 16, 16]         --\n",
            "│    │    └─Conv2d: 3-115                [16, 256, 16, 16]         589,824\n",
            "│    │    └─BatchNorm2d: 3-116           [16, 256, 16, 16]         512\n",
            "│    │    └─ReLU: 3-117                  [16, 256, 16, 16]         --\n",
            "│    │    └─Conv2d: 3-118                [16, 1024, 16, 16]        262,144\n",
            "│    │    └─BatchNorm2d: 3-119           [16, 1024, 16, 16]        2,048\n",
            "│    │    └─ReLU: 3-120                  [16, 1024, 16, 16]        --\n",
            "├─Sequential: 1-8                        [16, 2048, 8, 8]          --\n",
            "│    └─Bottleneck: 2-14                  [16, 2048, 8, 8]          --\n",
            "│    │    └─Conv2d: 3-121                [16, 512, 16, 16]         524,288\n",
            "│    │    └─BatchNorm2d: 3-122           [16, 512, 16, 16]         1,024\n",
            "│    │    └─ReLU: 3-123                  [16, 512, 16, 16]         --\n",
            "│    │    └─Conv2d: 3-124                [16, 512, 8, 8]           2,359,296\n",
            "│    │    └─BatchNorm2d: 3-125           [16, 512, 8, 8]           1,024\n",
            "│    │    └─ReLU: 3-126                  [16, 512, 8, 8]           --\n",
            "│    │    └─Conv2d: 3-127                [16, 2048, 8, 8]          1,048,576\n",
            "│    │    └─BatchNorm2d: 3-128           [16, 2048, 8, 8]          4,096\n",
            "│    │    └─Sequential: 3-129            [16, 2048, 8, 8]          2,101,248\n",
            "│    │    └─ReLU: 3-130                  [16, 2048, 8, 8]          --\n",
            "│    └─Bottleneck: 2-15                  [16, 2048, 8, 8]          --\n",
            "│    │    └─Conv2d: 3-131                [16, 512, 8, 8]           1,048,576\n",
            "│    │    └─BatchNorm2d: 3-132           [16, 512, 8, 8]           1,024\n",
            "│    │    └─ReLU: 3-133                  [16, 512, 8, 8]           --\n",
            "│    │    └─Conv2d: 3-134                [16, 512, 8, 8]           2,359,296\n",
            "│    │    └─BatchNorm2d: 3-135           [16, 512, 8, 8]           1,024\n",
            "│    │    └─ReLU: 3-136                  [16, 512, 8, 8]           --\n",
            "│    │    └─Conv2d: 3-137                [16, 2048, 8, 8]          1,048,576\n",
            "│    │    └─BatchNorm2d: 3-138           [16, 2048, 8, 8]          4,096\n",
            "│    │    └─ReLU: 3-139                  [16, 2048, 8, 8]          --\n",
            "│    └─Bottleneck: 2-16                  [16, 2048, 8, 8]          --\n",
            "│    │    └─Conv2d: 3-140                [16, 512, 8, 8]           1,048,576\n",
            "│    │    └─BatchNorm2d: 3-141           [16, 512, 8, 8]           1,024\n",
            "│    │    └─ReLU: 3-142                  [16, 512, 8, 8]           --\n",
            "│    │    └─Conv2d: 3-143                [16, 512, 8, 8]           2,359,296\n",
            "│    │    └─BatchNorm2d: 3-144           [16, 512, 8, 8]           1,024\n",
            "│    │    └─ReLU: 3-145                  [16, 512, 8, 8]           --\n",
            "│    │    └─Conv2d: 3-146                [16, 2048, 8, 8]          1,048,576\n",
            "│    │    └─BatchNorm2d: 3-147           [16, 2048, 8, 8]          4,096\n",
            "│    │    └─ReLU: 3-148                  [16, 2048, 8, 8]          --\n",
            "├─AdaptiveAvgPool2d: 1-9                 [16, 2048, 1, 1]          --\n",
            "├─Sequential: 1-10                       [16, 7]                   --\n",
            "│    └─Linear: 2-17                      [16, 256]                 524,544\n",
            "│    └─ReLU: 2-18                        [16, 256]                 --\n",
            "│    └─Dropout: 2-19                     [16, 256]                 --\n",
            "│    └─Linear: 2-20                      [16, 7]                   1,799\n",
            "│    └─LogSoftmax: 2-21                  [16, 7]                   --\n",
            "==========================================================================================\n",
            "Total params: 24,034,375\n",
            "Trainable params: 24,034,375\n",
            "Non-trainable params: 0\n",
            "Total mult-adds (Units.GIGABYTES): 85.42\n",
            "==========================================================================================\n",
            "Input size (MB): 12.58\n",
            "Forward/backward pass size (MB): 3716.19\n",
            "Params size (MB): 96.14\n",
            "Estimated Total Size (MB): 3824.91\n",
            "==========================================================================================\n"
          ]
        }
      ],
      "execution_count": 12
    },
    {
      "cell_type": "code",
      "source": [
        "num_epochs = 15\n",
        "trained_model, history, best_epoch = train_and_validate(resnet50, loss_func, optimizer, num_epochs)"
      ],
      "metadata": {
        "trusted": true,
        "execution": {
          "iopub.status.busy": "2025-07-10T13:49:03.178764Z",
          "iopub.execute_input": "2025-07-10T13:49:03.178978Z",
          "iopub.status.idle": "2025-07-10T14:03:33.849856Z",
          "shell.execute_reply.started": "2025-07-10T13:49:03.178962Z",
          "shell.execute_reply": "2025-07-10T14:03:33.849073Z"
        },
        "id": "gc_R-01DR_hs",
        "colab": {
          "base_uri": "https://localhost:8080/"
        },
        "outputId": "78e64472-227b-421f-cdba-2124a1a648e8"
      },
      "outputs": [
        {
          "output_type": "stream",
          "name": "stdout",
          "text": [
            "Epoch: 1/15\n",
            "Epoch : 000, Training: Loss - 1.3216, Accuracy - 50.1782%, \n",
            "\t\tValidation : Loss - 1.2802, Accuracy - 61.4786%, Time: 61.8128s\n",
            "Epoch: 2/15\n",
            "Epoch : 001, Training: Loss - 0.6310, Accuracy - 78.8468%, \n",
            "\t\tValidation : Loss - 0.3297, Accuracy - 89.3969%, Time: 54.7616s\n",
            "Epoch: 3/15\n",
            "Epoch : 002, Training: Loss - 0.3345, Accuracy - 88.9861%, \n",
            "\t\tValidation : Loss - 0.1460, Accuracy - 95.1362%, Time: 54.9047s\n",
            "Epoch: 4/15\n",
            "Epoch : 003, Training: Loss - 0.2166, Accuracy - 92.9705%, \n",
            "\t\tValidation : Loss - 0.1208, Accuracy - 96.1089%, Time: 54.8623s\n",
            "Epoch: 5/15\n",
            "Epoch : 004, Training: Loss - 0.1296, Accuracy - 95.8536%, \n",
            "\t\tValidation : Loss - 0.2095, Accuracy - 93.4825%, Time: 55.0171s\n",
            "Epoch: 6/15\n",
            "Epoch : 005, Training: Loss - 0.1131, Accuracy - 96.2747%, \n",
            "\t\tValidation : Loss - 0.0544, Accuracy - 98.1518%, Time: 55.6768s\n",
            "Epoch: 7/15\n",
            "Epoch : 006, Training: Loss - 0.0711, Accuracy - 97.5705%, \n",
            "\t\tValidation : Loss - 0.1796, Accuracy - 93.8716%, Time: 54.8435s\n",
            "Epoch: 8/15\n",
            "Epoch : 007, Training: Loss - 0.0769, Accuracy - 97.4733%, \n",
            "\t\tValidation : Loss - 0.0274, Accuracy - 98.7354%, Time: 55.0941s\n",
            "Epoch: 9/15\n",
            "Epoch : 008, Training: Loss - 0.0411, Accuracy - 98.6718%, \n",
            "\t\tValidation : Loss - 0.0194, Accuracy - 99.1245%, Time: 54.9528s\n",
            "Epoch: 10/15\n",
            "Epoch : 009, Training: Loss - 0.0423, Accuracy - 98.4127%, \n",
            "\t\tValidation : Loss - 0.0257, Accuracy - 99.1245%, Time: 54.7324s\n",
            "Epoch: 11/15\n",
            "Epoch : 010, Training: Loss - 0.0562, Accuracy - 98.3155%, \n",
            "\t\tValidation : Loss - 0.0533, Accuracy - 98.1518%, Time: 54.7153s\n",
            "Epoch: 12/15\n",
            "Epoch : 011, Training: Loss - 0.0350, Accuracy - 98.9310%, \n",
            "\t\tValidation : Loss - 0.0265, Accuracy - 99.1245%, Time: 54.6481s\n",
            "Epoch: 13/15\n",
            "Epoch : 012, Training: Loss - 0.0552, Accuracy - 98.1535%, \n",
            "\t\tValidation : Loss - 0.0375, Accuracy - 98.6381%, Time: 54.6545s\n",
            "Epoch: 14/15\n",
            "Epoch : 013, Training: Loss - 0.0256, Accuracy - 99.0606%, \n",
            "\t\tValidation : Loss - 0.0193, Accuracy - 99.2218%, Time: 54.9427s\n",
            "Epoch: 15/15\n",
            "Epoch : 014, Training: Loss - 0.0135, Accuracy - 99.6761%, \n",
            "\t\tValidation : Loss - 0.0602, Accuracy - 98.7354%, Time: 54.6471s\n"
          ]
        }
      ],
      "execution_count": 13
    },
    {
      "cell_type": "code",
      "source": [
        "dataset = 'teeth'\n",
        "torch.save(history, dataset+'_history.pt')"
      ],
      "metadata": {
        "trusted": true,
        "execution": {
          "iopub.status.busy": "2025-07-10T14:03:33.851217Z",
          "iopub.execute_input": "2025-07-10T14:03:33.851516Z",
          "iopub.status.idle": "2025-07-10T14:03:33.855861Z",
          "shell.execute_reply.started": "2025-07-10T14:03:33.851489Z",
          "shell.execute_reply": "2025-07-10T14:03:33.855088Z"
        },
        "id": "KXHt_NxAR_ht"
      },
      "outputs": [],
      "execution_count": 14
    },
    {
      "cell_type": "code",
      "source": [
        "plt.figure(figsize=(10, 7))\n",
        "history = np.array(history)\n",
        "plt.plot(history[:,0:2])\n",
        "plt.legend(['Training Loss', 'Validation Loss'])\n",
        "plt.xlabel('Epoch Number')\n",
        "plt.ylabel('Loss')\n",
        "plt.savefig('loss_curve.png')\n",
        "plt.show()"
      ],
      "metadata": {
        "trusted": true,
        "execution": {
          "iopub.status.busy": "2025-07-10T14:03:33.857698Z",
          "iopub.execute_input": "2025-07-10T14:03:33.857948Z",
          "iopub.status.idle": "2025-07-10T14:03:34.129018Z",
          "shell.execute_reply.started": "2025-07-10T14:03:33.857924Z",
          "shell.execute_reply": "2025-07-10T14:03:34.128263Z"
        },
        "id": "1b_Gy6R0R_hu",
        "colab": {
          "base_uri": "https://localhost:8080/",
          "height": 619
        },
        "outputId": "de172840-b137-4d70-9160-3b5acca55390"
      },
      "outputs": [
        {
          "output_type": "display_data",
          "data": {
            "text/plain": [
              "<Figure size 1000x700 with 1 Axes>"
            ],
            "image/png": "[encoded data removed]"
          },
          "metadata": {}
        }
      ],
      "execution_count": 15
    },
    {
      "cell_type": "code",
      "source": [
        "plt.figure(figsize=(10, 7))\n",
        "plt.plot(history[:,2:4])\n",
        "plt.legend(['Training Accuracy', 'Validation Accuracy'])\n",
        "plt.xlabel('Epoch Number')\n",
        "plt.ylabel('Accuracy')\n",
        "plt.savefig('accuracy_curve.png')\n",
        "plt.show()"
      ],
      "metadata": {
        "trusted": true,
        "execution": {
          "iopub.status.busy": "2025-07-10T14:03:34.129839Z",
          "iopub.execute_input": "2025-07-10T14:03:34.130118Z",
          "iopub.status.idle": "2025-07-10T14:03:34.394146Z",
          "shell.execute_reply.started": "2025-07-10T14:03:34.130099Z",
          "shell.execute_reply": "2025-07-10T14:03:34.393333Z"
        },
        "id": "2yRKlGWCR_hu",
        "colab": {
          "base_uri": "https://localhost:8080/",
          "height": 619
        },
        "outputId": "d7a16aca-b7ad-4786-ada2-ea0f7c22aa5f"
      },
      "outputs": [
        {
          "output_type": "display_data",
          "data": {
            "text/plain": [
              "<Figure size 1000x700 with 1 Axes>"
            ],
            "image/png": "[encoded data removed]"
          },
          "metadata": {}
        }
      ],
      "execution_count": 16
    },
    {
      "cell_type": "code",
      "source": [
        "def computeTestSetAccuracy(model, loss_criterion):\n",
        "    device = torch.device(\"cuda:0\" if torch.cuda.is_available() else \"cpu\")\n",
        "\n",
        "    test_acc = 0.0\n",
        "    test_loss = 0.0\n",
        "\n",
        "\n",
        "    with torch.no_grad():\n",
        "\n",
        "        model.eval()\n",
        "\n",
        "        for j, (inputs, labels) in enumerate(test_loader):\n",
        "            inputs = inputs.to(device)\n",
        "            labels = labels.to(device)\n",
        "            outputs = model(inputs)\n",
        "\n",
        "            loss = loss_criterion(outputs, labels)\n",
        "\n",
        "\n",
        "            test_loss += loss.item() * inputs.size(0)\n",
        "\n",
        "\n",
        "            _, predictions = torch.max(outputs.data, 1)\n",
        "            correct_counts = predictions.eq(labels.data.view_as(predictions))\n",
        "\n",
        "\n",
        "            acc = torch.mean(correct_counts.type(torch.FloatTensor))\n",
        "\n",
        "\n",
        "            test_acc += acc.item() * inputs.size(0)\n",
        "\n",
        "            print(f\"Test Batch number: {j:03d}, Test: Loss: {loss.item():.4f}, Accuracy: {acc.item():.4f}\")\n",
        "\n",
        "\n",
        "    avg_test_loss = test_loss / test_data_size\n",
        "    avg_test_acc = test_acc / test_data_size\n",
        "\n",
        "    print(\"Test accuracy: {:.4f}\".format(avg_test_acc))"
      ],
      "metadata": {
        "trusted": true,
        "execution": {
          "iopub.status.busy": "2025-07-10T14:10:11.699218Z",
          "iopub.execute_input": "2025-07-10T14:10:11.699784Z",
          "iopub.status.idle": "2025-07-10T14:10:11.705792Z",
          "shell.execute_reply.started": "2025-07-10T14:10:11.699761Z",
          "shell.execute_reply": "2025-07-10T14:10:11.704943Z"
        },
        "id": "rQlJYUEtR_hu"
      },
      "outputs": [],
      "execution_count": 17
    },
    {
      "cell_type": "code",
      "source": [
        "!pip install streamlit pyngrok"
      ],
      "metadata": {
        "trusted": true,
        "id": "BuSgx4osR_hv",
        "colab": {
          "base_uri": "https://localhost:8080/"
        },
        "outputId": "08adc64d-5c96-44de-e779-701222fb98f7"
      },
      "outputs": [
        {
          "output_type": "stream",
          "name": "stdout",
          "text": [
            "Collecting streamlit\n",
            "  Downloading streamlit-1.46.1-py3-none-any.whl.metadata (9.0 kB)\n",
            "Collecting pyngrok\n",
            "  Downloading pyngrok-7.2.12-py3-none-any.whl.metadata (9.4 kB)\n",
            "Requirement already satisfied: altair<6,>=4.0 in /usr/local/lib/python3.11/dist-packages (from streamlit) (5.5.0)\n",
            "Requirement already satisfied: blinker<2,>=1.5.0 in /usr/local/lib/python3.11/dist-packages (from streamlit) (1.9.0)\n",
            "Requirement already satisfied: cachetools<7,>=4.0 in /usr/local/lib/python3.11/dist-packages (from streamlit) (5.5.2)\n",
            "Requirement already satisfied: click<9,>=7.0 in /usr/local/lib/python3.11/dist-packages (from streamlit) (8.2.1)\n",
            "Requirement already satisfied: numpy<3,>=1.23 in /usr/local/lib/python3.11/dist-packages (from streamlit) (2.0.2)\n",
            "Requirement already satisfied: packaging<26,>=20 in /usr/local/lib/python3.11/dist-packages (from streamlit) (24.2)\n",
            "Requirement already satisfied: pandas<3,>=1.4.0 in /usr/local/lib/python3.11/dist-packages (from streamlit) (2.2.2)\n",
            "Requirement already satisfied: pillow<12,>=7.1.0 in /usr/local/lib/python3.11/dist-packages (from streamlit) (11.2.1)\n",
            "Requirement already satisfied: protobuf<7,>=3.20 in /usr/local/lib/python3.11/dist-packages (from streamlit) (5.29.5)\n",
            "Requirement already satisfied: pyarrow>=7.0 in /usr/local/lib/python3.11/dist-packages (from streamlit) (18.1.0)\n",
            "Requirement already satisfied: requests<3,>=2.27 in /usr/local/lib/python3.11/dist-packages (from streamlit) (2.32.3)\n",
            "Requirement already satisfied: tenacity<10,>=8.1.0 in /usr/local/lib/python3.11/dist-packages (from streamlit) (8.5.0)\n",
            "Requirement already satisfied: toml<2,>=0.10.1 in /usr/local/lib/python3.11/dist-packages (from streamlit) (0.10.2)\n",
            "Requirement already satisfied: typing-extensions<5,>=4.4.0 in /usr/local/lib/python3.11/dist-packages (from streamlit) (4.14.1)\n",
            "Collecting watchdog<7,>=2.1.5 (from streamlit)\n",
            "  Downloading watchdog-6.0.0-py3-none-manylinux2014_x86_64.whl.metadata (44 kB)\n",
            "\u001b[2K     \u001b[90m━━━━━━━━━━━━━━━━━━━━━━━━━━━━━━━━━━━━━━━━\u001b[0m \u001b[32m44.3/44.3 kB\u001b[0m \u001b[31m3.7 MB/s\u001b[0m eta \u001b[36m0:00:00\u001b[0m\n",
            "\u001b[?25hRequirement already satisfied: gitpython!=3.1.19,<4,>=3.0.7 in /usr/local/lib/python3.11/dist-packages (from streamlit) (3.1.44)\n",
            "Collecting pydeck<1,>=0.8.0b4 (from streamlit)\n",
            "  Downloading pydeck-0.9.1-py2.py3-none-any.whl.metadata (4.1 kB)\n",
            "Requirement already satisfied: tornado!=6.5.0,<7,>=6.0.3 in /usr/local/lib/python3.11/dist-packages (from streamlit) (6.4.2)\n",
            "Requirement already satisfied: PyYAML>=5.1 in /usr/local/lib/python3.11/dist-packages (from pyngrok) (6.0.2)\n",
            "Requirement already satisfied: jinja2 in /usr/local/lib/python3.11/dist-packages (from altair<6,>=4.0->streamlit) (3.1.6)\n",
            "Requirement already satisfied: jsonschema>=3.0 in /usr/local/lib/python3.11/dist-packages (from altair<6,>=4.0->streamlit) (4.24.0)\n",
            "Requirement already satisfied: narwhals>=1.14.2 in /usr/local/lib/python3.11/dist-packages (from altair<6,>=4.0->streamlit) (1.46.0)\n",
            "Requirement already satisfied: gitdb<5,>=4.0.1 in /usr/local/lib/python3.11/dist-packages (from gitpython!=3.1.19,<4,>=3.0.7->streamlit) (4.0.12)\n",
            "Requirement already satisfied: python-dateutil>=2.8.2 in /usr/local/lib/python3.11/dist-packages (from pandas<3,>=1.4.0->streamlit) (2.9.0.post0)\n",
            "Requirement already satisfied: pytz>=2020.1 in /usr/local/lib/python3.11/dist-packages (from pandas<3,>=1.4.0->streamlit) (2025.2)\n",
            "Requirement already satisfied: tzdata>=2022.7 in /usr/local/lib/python3.11/dist-packages (from pandas<3,>=1.4.0->streamlit) (2025.2)\n",
            "Requirement already satisfied: charset-normalizer<4,>=2 in /usr/local/lib/python3.11/dist-packages (from requests<3,>=2.27->streamlit) (3.4.2)\n",
            "Requirement already satisfied: idna<4,>=2.5 in /usr/local/lib/python3.11/dist-packages (from requests<3,>=2.27->streamlit) (3.10)\n",
            "Requirement already satisfied: urllib3<3,>=1.21.1 in /usr/local/lib/python3.11/dist-packages (from requests<3,>=2.27->streamlit) (2.4.0)\n",
            "Requirement already satisfied: certifi>=2017.4.17 in /usr/local/lib/python3.11/dist-packages (from requests<3,>=2.27->streamlit) (2025.7.9)\n",
            "Requirement already satisfied: smmap<6,>=3.0.1 in /usr/local/lib/python3.11/dist-packages (from gitdb<5,>=4.0.1->gitpython!=3.1.19,<4,>=3.0.7->streamlit) (5.0.2)\n",
            "Requirement already satisfied: MarkupSafe>=2.0 in /usr/local/lib/python3.11/dist-packages (from jinja2->altair<6,>=4.0->streamlit) (3.0.2)\n",
            "Requirement already satisfied: attrs>=22.2.0 in /usr/local/lib/python3.11/dist-packages (from jsonschema>=3.0->altair<6,>=4.0->streamlit) (25.3.0)\n",
            "Requirement already satisfied: jsonschema-specifications>=2023.03.6 in /usr/local/lib/python3.11/dist-packages (from jsonschema>=3.0->altair<6,>=4.0->streamlit) (2025.4.1)\n",
            "Requirement already satisfied: referencing>=0.28.4 in /usr/local/lib/python3.11/dist-packages (from jsonschema>=3.0->altair<6,>=4.0->streamlit) (0.36.2)\n",
            "Requirement already satisfied: rpds-py>=0.7.1 in /usr/local/lib/python3.11/dist-packages (from jsonschema>=3.0->altair<6,>=4.0->streamlit) (0.26.0)\n",
            "Requirement already satisfied: six>=1.5 in /usr/local/lib/python3.11/dist-packages (from python-dateutil>=2.8.2->pandas<3,>=1.4.0->streamlit) (1.17.0)\n",
            "Downloading streamlit-1.46.1-py3-none-any.whl (10.1 MB)\n",
            "\u001b[2K   \u001b[90m━━━━━━━━━━━━━━━━━━━━━━━━━━━━━━━━━━━━━━━━\u001b[0m \u001b[32m10.1/10.1 MB\u001b[0m \u001b[31m79.0 MB/s\u001b[0m eta \u001b[36m0:00:00\u001b[0m\n",
            "\u001b[?25hDownloading pyngrok-7.2.12-py3-none-any.whl (26 kB)\n",
            "Downloading pydeck-0.9.1-py2.py3-none-any.whl (6.9 MB)\n",
            "\u001b[2K   \u001b[90m━━━━━━━━━━━━━━━━━━━━━━━━━━━━━━━━━━━━━━━━\u001b[0m \u001b[32m6.9/6.9 MB\u001b[0m \u001b[31m85.2 MB/s\u001b[0m eta \u001b[36m0:00:00\u001b[0m\n",
            "\u001b[?25hDownloading watchdog-6.0.0-py3-none-manylinux2014_x86_64.whl (79 kB)\n",
            "\u001b[2K   \u001b[90m━━━━━━━━━━━━━━━━━━━━━━━━━━━━━━━━━━━━━━━━\u001b[0m \u001b[32m79.1/79.1 kB\u001b[0m \u001b[31m7.5 MB/s\u001b[0m eta \u001b[36m0:00:00\u001b[0m\n",
            "\u001b[?25hInstalling collected packages: watchdog, pyngrok, pydeck, streamlit\n",
            "Successfully installed pydeck-0.9.1 pyngrok-7.2.12 streamlit-1.46.1 watchdog-6.0.0\n"
          ]
        }
      ],
      "execution_count": 18
    },
    {
      "cell_type": "code",
      "source": [
        "%%writefile app.py\n",
        "import streamlit as st\n",
        "from PIL import Image\n",
        "import torch\n",
        "import torch.nn as nn\n",
        "import torchvision.models as models\n",
        "import torchvision.transforms as transforms\n",
        "\n",
        "\n",
        "mean = [0.5, 0.5, 0.5]\n",
        "std = [0.5, 0.5, 0.5]\n",
        "test_transform = transforms.Compose([\n",
        "    transforms.Resize((256, 256)),\n",
        "    transforms.ToTensor(),\n",
        "    transforms.Normalize(mean=mean, std=std)\n",
        "])\n",
        "\n",
        "\n",
        "CLASSES = ['CaS', 'CoS', 'Gum', 'MC', 'OC', 'OLP', 'OT']\n",
        "\n",
        "@st.cache_resource\n",
        "def load_model():\n",
        "    model = models.resnet50(weights=None)\n",
        "    for param in model.parameters():\n",
        "        param.requires_grad = False\n",
        "\n",
        "    fc_inputs = model.fc.in_features\n",
        "\n",
        "    model.fc = nn.Sequential(\n",
        "        nn.Linear(fc_inputs, 256),\n",
        "        nn.ReLU(),\n",
        "        nn.Dropout(0.4),\n",
        "        nn.Linear(256, len(CLASSES)), # Output layer matches number of classes\n",
        "        nn.LogSoftmax(dim=1)\n",
        "    )\n",
        "\n",
        "    # 4. Load the saved weights (the state_dict)\n",
        "    # Make sure 'best_model.pt' was saved with torch.save(model.state_dict(), ...)\n",
        "    model.load_state_dict(torch.load(\"best_model.pt\", map_location=\"cpu\"))\n",
        "    model.eval()\n",
        "    return model\n",
        "\n",
        "# --- Streamlit App UI ---\n",
        "st.title(\"🦷 Teeth Classification Demo\")\n",
        "\n",
        "try:\n",
        "    model = load_model()\n",
        "except FileNotFoundError:\n",
        "    st.error(\"Model file not found. Please make sure 'best_model.pt' is in the same directory and was saved correctly.\")\n",
        "    st.stop()\n",
        "except Exception as e:\n",
        "    st.error(f\"An error occurred while loading the model: {e}\")\n",
        "    st.stop()\n",
        "\n",
        "uploaded_file = st.file_uploader(\"Upload a dental photo\", type=[\"png\", \"jpg\", \"jpeg\"])\n",
        "\n",
        "if uploaded_file:\n",
        "    img = Image.open(uploaded_file).convert(\"RGB\")\n",
        "    st.image(img, caption=\"Input image\", use_container_width=True)\n",
        "\n",
        "    x = test_transform(img).unsqueeze(0)\n",
        "\n",
        "    with torch.no_grad():\n",
        "        # Get the raw log-softmax output from the model\n",
        "        log_probs = model(x)\n",
        "\n",
        "        # 5. Correctly convert log-probabilities to probabilities\n",
        "        probs = torch.exp(log_probs)\n",
        "\n",
        "        # Get the top prediction\n",
        "        conf, idx = probs.max(1)\n",
        "\n",
        "    # Use the hardcoded CLASSES list\n",
        "    pred_class = CLASSES[idx.item()]\n",
        "\n",
        "    # Display the result\n",
        "    st.markdown(f\"### **Prediction:** `{pred_class}`\")\n",
        "    st.metric(label=\"Confidence\", value=f\"{conf.item():.2%}\")"
      ],
      "metadata": {
        "id": "SIQvS2gqpMW5",
        "colab": {
          "base_uri": "https://localhost:8080/"
        },
        "outputId": "04710664-821a-4b14-bb78-1bba0edfc2f5"
      },
      "execution_count": 30,
      "outputs": [
        {
          "output_type": "stream",
          "name": "stdout",
          "text": [
            "Overwriting app.py\n"
          ]
        }
      ]
    },
    {
      "cell_type": "code",
      "source": [
        "! ngrok config add-authtoken 2zjvL14xVSsKo5AMzw1uZMfTYgK_o8L2ieHSBdvorB4bHQPs"
      ],
      "metadata": {
        "id": "NwsdHf39rQQ3",
        "colab": {
          "base_uri": "https://localhost:8080/"
        },
        "outputId": "7538ccdd-0e1a-4547-c26c-f642d8deadb9"
      },
      "execution_count": 20,
      "outputs": [
        {
          "output_type": "stream",
          "name": "stdout",
          "text": [
            "Authtoken saved to configuration file: /root/.config/ngrok/ngrok.yml\n"
          ]
        }
      ]
    },
    {
      "cell_type": "code",
      "source": [
        "from pyngrok import ngrok\n",
        "\n",
        "public_url = ngrok.connect(8501)\n",
        "print(\" * ngrok tunnel:\", public_url)\n",
        "\n",
        "# 2) launch Streamlit in the background\n",
        "!streamlit run app.py &"
      ],
      "metadata": {
        "colab": {
          "base_uri": "https://localhost:8080/"
        },
        "id": "SlUOsfA3qDf3",
        "outputId": "52eb94f3-58e1-48c5-b71a-b39204212d0f"
      },
      "execution_count": 31,
      "outputs": [
        {
          "output_type": "stream",
          "name": "stdout",
          "text": [
            " * ngrok tunnel: NgrokTunnel: \"https://6d8879aaf7b1.ngrok-free.app\" -> \"http://localhost:8501\"\n",
            "\n",
            "Collecting usage statistics. To deactivate, set browser.gatherUsageStats to false.\n",
            "\u001b[0m\n",
            "\u001b[0m\n",
            "\u001b[34m\u001b[1m  You can now view your Streamlit app in your browser.\u001b[0m\n",
            "\u001b[0m\n",
            "\u001b[34m  Local URL: \u001b[0m\u001b[1mhttp://localhost:8501\u001b[0m\n",
            "\u001b[34m  Network URL: \u001b[0m\u001b[1mhttp://172.28.0.12:8501\u001b[0m\n",
            "\u001b[34m  External URL: \u001b[0m\u001b[1mhttp://34.125.72.30:8501\u001b[0m\n",
            "\u001b[0m\n",
            "\u001b[34m  Stopping...\u001b[0m\n"
          ]
        }
      ]
    },
    {
      "cell_type": "code",
      "source": [],
      "metadata": {
        "id": "u-XrvB_WqbiC"
      },
      "execution_count": null,
      "outputs": []
    }
  ]
}